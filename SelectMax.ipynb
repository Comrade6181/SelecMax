{
 "cells": [
  {
   "cell_type": "code",
   "execution_count": 25,
   "metadata": {},
   "outputs": [
    {
     "name": "stdout",
     "output_type": "stream",
     "text": [
      "Enter Number Of object:8\n",
      "Enter Number Of Box:2\n",
      "Enter the capacity of the box:4\n",
      "==========Output=========\n",
      "The largest number of objects we can select 4\n"
     ]
    }
   ],
   "source": [
    "import random as rd\n",
    "\n",
    "def SelectMax(n,m,k):\n",
    "    #===Selects the maximum object==\n",
    "    N=int(n)\n",
    "    M=int(m)\n",
    "    K=int(k)\n",
    "    s = []\n",
    "    for k in range(N):\n",
    "        value=rd.randint(1,N)\n",
    "        s.append(value)\n",
    "    s.sort()\n",
    "    sum = s\n",
    "    r1 = 0\n",
    "    r=0\n",
    "    cont = []\n",
    "    for j in range(M):\n",
    "        for i in range(N):\n",
    "            if r1 <= K:\n",
    "                r=+sum[0]\n",
    "                cont.append(r)\n",
    "                sum.remove(r)\n",
    "                r1 = r + r1\n",
    "                k -= r1\n",
    "            else:\n",
    "                K =int(k)\n",
    "                r = 0\n",
    "                r1 = 0\n",
    "                a = len(cont)\n",
    "                break\n",
    "    print(\"==========Output=========\")   \n",
    "    print(\"The largest number of objects we can select\", a)\n",
    "    \n",
    "#====== Main=====\n",
    "n=input(\"Enter Number Of object:\")\n",
    "m=input(\"Enter Number Of Box:\")\n",
    "k=input(\"Enter the capacity of the box:\")\n",
    "SelectMax(n,m,k)\n"
   ]
  }
 ],
 "metadata": {
  "kernelspec": {
   "display_name": "Python 3",
   "language": "python",
   "name": "python3"
  },
  "language_info": {
   "codemirror_mode": {
    "name": "ipython",
    "version": 3
   },
   "file_extension": ".py",
   "mimetype": "text/x-python",
   "name": "python",
   "nbconvert_exporter": "python",
   "pygments_lexer": "ipython3",
   "version": "3.7.3"
  }
 },
 "nbformat": 4,
 "nbformat_minor": 2
}
